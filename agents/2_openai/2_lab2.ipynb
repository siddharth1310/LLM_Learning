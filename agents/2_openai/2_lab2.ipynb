{
 "cells": [
  {
   "cell_type": "markdown",
   "metadata": {},
   "source": [
    "## Week 2 Day 2\n",
    "\n",
    "Our first Agentic Framework project!!\n",
    "\n",
    "Prepare yourself for something ridiculously easy.\n",
    "\n",
    "We're going to build a simple Agent system for generating cold sales outreach emails:\n",
    "1. Agent workflow\n",
    "2. Use of tools to call functions\n",
    "3. Agent collaboration via Tools and Handoffs"
   ]
  },
  {
   "cell_type": "markdown",
   "metadata": {},
   "source": [
    "## Before we start - some setup:\n",
    "\n",
    "\n",
    "Please visit Sendgrid at: https://sendgrid.com/\n",
    "\n",
    "(Sendgrid is a Twilio company for sending emails.)\n",
    "\n",
    "If SendGrid gives you problems, see the alternative implementation using \"Resend Email\" in community_contributions/2_lab2_with_resend_email\n",
    "\n",
    "Please set up an account - it's free! (at least, for me, right now).\n",
    "\n",
    "Once you've created an account, click on:\n",
    "\n",
    "Settings (left sidebar) >> API Keys >> Create API Key (button on top right)\n",
    "\n",
    "Copy the key to the clipboard, then add a new line to your .env file:\n",
    "\n",
    "`SENDGRID_API_KEY=xxxx`\n",
    "\n",
    "And also, within SendGrid, go to:\n",
    "\n",
    "Settings (left sidebar) >> Sender Authentication >> \"Verify a Single Sender\"  \n",
    "and verify that your own email address is a real email address, so that SendGrid can send emails for you.\n"
   ]
  },
  {
   "cell_type": "code",
   "execution_count": 1,
   "metadata": {},
   "outputs": [],
   "source": [
    "from dotenv import load_dotenv  # Load environment variables from a .env file (e.g., API keys, secrets)\n",
    "from agents import Agent, Runner, trace, function_tool  # Components for agent-based workflows, tracing, and custom tools\n",
    "from openai.types.responses import ResponseTextDeltaEvent  # Handles text streaming/delta events from OpenAI API responses\n",
    "from typing import Dict  # Provides type hinting for dictionaries\n",
    "import sendgrid  # Send emails using SendGrid's API\n",
    "import os  # Access OS-level functionality, especially environment variables\n",
    "from sendgrid.helpers.mail import Mail, Email, To, Content  # Helper classes from SendGrid to construct emails (sender, recipient, subject, content)\n",
    "import asyncio  # Enables asynchronous programming (useful for concurrent tasks or non-blocking requests)"
   ]
  },
  {
   "cell_type": "code",
   "execution_count": 2,
   "metadata": {},
   "outputs": [
    {
     "data": {
      "text/plain": [
       "True"
      ]
     },
     "execution_count": 2,
     "metadata": {},
     "output_type": "execute_result"
    }
   ],
   "source": [
    "# Load environment variables from a .env file, allowing for configuration without hardcoding\n",
    "load_dotenv(override = True)"
   ]
  },
  {
   "cell_type": "code",
   "execution_count": 3,
   "metadata": {},
   "outputs": [
    {
     "name": "stdout",
     "output_type": "stream",
     "text": [
      "202\n"
     ]
    }
   ],
   "source": [
    "def send_test_email():\n",
    "    \"\"\"\n",
    "    Sends a test email using the SendGrid API.\n",
    "\n",
    "    <b>*Parameters*</b>\n",
    "    - None: The function does not take any input parameters.\n",
    "    \n",
    "    <b>*Returns*</b>\n",
    "    - None explicitly. \n",
    "    - Prints the email sending status code to the console.\n",
    "      - 202 = Email successfully queued for sending\n",
    "      - Other codes = Indicates an error (e.g., authentication failure, invalid email)\n",
    "\n",
    "    <b>*Logic*</b>\n",
    "    1. Retrieve the SendGrid API key from environment variables for secure authentication.\n",
    "    2. Define the sender’s email address (must be verified in SendGrid).\n",
    "    3. Define the recipient’s email address (target where the email will be sent).\n",
    "    4. Define the email content (plain text in this case).\n",
    "    5. Construct the Mail object with sender, receiver, subject, and body.\n",
    "    6. Convert the Mail object into a JSON-compatible format using `.get()`.\n",
    "    7. Send the email request through SendGrid’s API.\n",
    "    8. Print the response status code to check if the email was sent successfully.\n",
    "    \"\"\"\n",
    "    \n",
    "    # Create a SendGrid client object using your API key.\n",
    "    # The API key here is read from an environment variable called \"SENDGRID_API_KEY\".\n",
    "    # This keeps your private key safe instead of typing it directly into the code.\n",
    "    sg = sendgrid.SendGridAPIClient(api_key = os.environ.get(\"SENDGRID_API_KEY\"))\n",
    "    \n",
    "    # Define the sender email address (MUST be verified in your SendGrid account).\n",
    "    from_email = Email(email = \"siddharthwolverine@gmail.com\")\n",
    "    \n",
    "    # Define the recipient email address (the person who should receive the email).\n",
    "    to_email = To(email = \"siddharth13101999singh@gmail.com\")\n",
    "    \n",
    "    # Define the actual message content.\n",
    "    # - mime_type = \"text/plain\" means this email will only contain plain text.\n",
    "    # - content = \"This is an important test email\" is the body of the email.\n",
    "    content = Content(mime_type = \"text/plain\", content = \"This is an important test email\")\n",
    "    \n",
    "    # Create the email message itself.\n",
    "    # - from_email: who is sending the email\n",
    "    # - to_email: who will receive the email\n",
    "    # - \"Test email\": the subject of the email\n",
    "    # - content: what is written inside the email body\n",
    "    # \".get()\" converts the object into the proper format (JSON) so that SendGrid can understand it.\n",
    "    mail = Mail(from_email = from_email, to_emails = to_email, subject = \"Test email\", plain_text_content = content).get()\n",
    "    \n",
    "    # Actually send the email by making a POST request to SendGrid's mail API.\n",
    "    # 'request_body = mail' means the email details created above are sent as part of the request.\n",
    "    response = sg.client.mail.send.post(request_body = mail)\n",
    "    \n",
    "    # Print the status code returned by the server.\n",
    "    # - 202 means the email was successfully accepted by SendGrid.\n",
    "    # - Any other status codes indicate something went wrong.\n",
    "    print(response.status_code)\n",
    "\n",
    "# Call the function to run it.\n",
    "send_test_email()"
   ]
  },
  {
   "cell_type": "markdown",
   "metadata": {},
   "source": [
    "### Did you receive the test email\n",
    "\n",
    "If you get a 202, then you're good to go!\n",
    "\n",
    "#### Certificate error\n",
    "\n",
    "If you get an error SSL: CERTIFICATE_VERIFY_FAILED then students Chris S and Oleksandr K have suggestions:  \n",
    "First run this: `!uv pip install --upgrade certifi`  \n",
    "Next, run this:\n",
    "```python\n",
    "import certifi\n",
    "import os\n",
    "os.environ['SSL_CERT_FILE'] = certifi.where()\n",
    "```\n",
    "\n",
    "#### Other errors or no email\n",
    "\n",
    "If there are other problems, you'll need to check your API key and your verified sender email address in the SendGrid dashboard\n",
    "\n",
    "Or use the alternative implementation using \"Resend Email\" in community_contributions/2_lab2_with_resend_email\n",
    "\n",
    "(Or - you could always replace the email sending code below with a Pushover call, or something to simply write to a flat file)"
   ]
  },
  {
   "cell_type": "markdown",
   "metadata": {},
   "source": [
    "## Step 1: Agent workflow"
   ]
  },
  {
   "cell_type": "code",
   "execution_count": 4,
   "metadata": {},
   "outputs": [],
   "source": [
    "# Instruction set for a professional tone:\n",
    "# The AI should act like a serious sales agent, writing formal, professional cold emails.\n",
    "instructions1 = \"You are a sales agent working for CompanionAI, \\\n",
    "a company that provides a SaaS tool for ensuring SOC2 compliance and preparing for audits, powered by AI. \\\n",
    "You write professional, serious cold emails.\"\n",
    "\n",
    "# Instruction set for a humorous tone:\n",
    "# The AI should act like a witty sales agent, writing engaging cold emails with humor to spark responses.\n",
    "instructions2 = \"You are a humorous, engaging sales agent working for CompanionAI, \\\n",
    "a company that provides a SaaS tool for ensuring SOC2 compliance and preparing for audits, powered by AI. \\\n",
    "You write witty, engaging cold emails that are likely to get a response.\"\n",
    "\n",
    "# Instruction set for a concise tone:\n",
    "# The AI should act like a busy sales agent, writing short and direct cold emails that respect the reader’s time.\n",
    "instructions3 = \"You are a busy sales agent working for CompanionAI, \\\n",
    "a company that provides a SaaS tool for ensuring SOC2 compliance and preparing for audits, powered by AI. \\\n",
    "You write concise, to the point cold emails.\""
   ]
  },
  {
   "cell_type": "code",
   "execution_count": 5,
   "metadata": {},
   "outputs": [],
   "source": [
    "# Create an instance of Agent named \"Professional Sales Agent\". This agent will follow the instructions defined in instructions1,\n",
    "# which asks for a professional and serious tone in cold emails. The model specified for generating responses is \"gpt-4o-mini\".\n",
    "sales_agent1 = Agent(name = \"Professional Sales Agent\", instructions = instructions1, model = \"gpt-4o-mini\")\n",
    "\n",
    "# Create an instance of Agent named \"Engaging Sales Agent\". This agent will follow the instructions defined in instructions2,\n",
    "# which asks for a humorous, witty, and engaging email style. The model specified for generating responses is \"gpt-4o-mini\".\n",
    "sales_agent2 = Agent(name = \"Engaging Sales Agent\", instructions = instructions2, model = \"gpt-4o-mini\")\n",
    "\n",
    "# Create an instance of Agent named \"Busy Sales Agent\". This agent will follow the instructions defined in instructions3,\n",
    "# which asks for concise, direct, and to-the-point cold emails. The model specified for generating responses is \"gpt-4o-mini\".\n",
    "sales_agent3 = Agent(name = \"Busy Sales Agent\", instructions = instructions3, model = \"gpt-4o-mini\")"
   ]
  },
  {
   "cell_type": "code",
   "execution_count": 6,
   "metadata": {},
   "outputs": [
    {
     "name": "stdout",
     "output_type": "stream",
     "text": [
      "Subject: Streamline Your SOC 2 Compliance Process with CompanionAI\n",
      "\n",
      "Hi [Recipient's Name],\n",
      "\n",
      "I hope this message finds you well. \n",
      "\n",
      "As organizations face increasing scrutiny regarding data security and privacy, achieving SOC 2 compliance can be a complex and time-consuming process. At CompanionAI, we understand this challenge and have developed an innovative SaaS tool designed to simplify and automate your compliance journey.\n",
      "\n",
      "Our AI-powered solution not only helps streamline the preparation for audits but also provides ongoing monitoring and guidance to ensure your organization maintains compliance at all times. By leveraging our tool, many of our clients have reduced compliance preparation time by up to 50%, allowing them to focus more on their core business.\n",
      "\n",
      "I would love to schedule a brief call to discuss how CompanionAI can support your organization in achieving and maintaining SOC 2 compliance efficiently. Are you available for a quick chat this week?\n",
      "\n",
      "Thank you for considering CompanionAI as your partner in compliance.\n",
      "\n",
      "Best regards,\n",
      "\n",
      "[Your Name]  \n",
      "[Your Job Title]  \n",
      "CompanionAI  \n",
      "[Your Phone Number]  \n",
      "[Your Email Address]  \n",
      "[Website URL]  "
     ]
    }
   ],
   "source": [
    "# Run the sales_agent1 agent in streamed mode using Runner. This starts the agent with the input prompt: \"Write a cold sales email\".\n",
    "result = Runner.run_streamed(starting_agent = sales_agent1, input = \"Write a cold sales email\")\n",
    "\n",
    "# Iterate asynchronously over streaming events returned by the agent. This loop waits for the agent's response events in real-time.\n",
    "async for event in result.stream_events():\n",
    "    # Check if the event is a raw response event and its data is of type ResponseTextDeltaEvent,\n",
    "    # which represents partial incremental chunks of the response text.\n",
    "    if event.type == \"raw_response_event\" and isinstance(event.data, ResponseTextDeltaEvent):\n",
    "        # Print the delta (small piece of generated text) immediately, with no newline and flushing the output \n",
    "        # buffer to show streaming results live.\n",
    "        print(event.data.delta, end = \"\", flush = True)"
   ]
  },
  {
   "cell_type": "code",
   "execution_count": 7,
   "metadata": {},
   "outputs": [
    {
     "name": "stdout",
     "output_type": "stream",
     "text": [
      "Subject: Streamline Your SOC 2 Compliance Process with CompanionAI\n",
      "\n",
      "Hi [Recipient's Name],\n",
      "\n",
      "I hope this message finds you well. I’m [Your Name], reaching out from CompanionAI, where we specialize in empowering organizations like yours to simplify their SOC 2 compliance journey.\n",
      "\n",
      "As you know, maintaining SOC 2 compliance can be a complex and time-consuming endeavor. Our AI-powered SaaS tool is designed to automate key processes, making it easier for your team to manage compliance requirements and prepare for audits efficiently. \n",
      "\n",
      "Here are a few ways CompanionAI can support your organization:\n",
      "\n",
      "- **Automated Documentation**: Generate and maintain the necessary documentation effortlessly, reducing the burden on your team.\n",
      "- **Real-time Monitoring**: Stay up-to-date with compliance status and receive actionable insights to address potential issues before they arise.\n",
      "- **Audit Preparation**: Simplify audit processes with organized, easily accessible data, allowing for a smoother review.\n",
      "\n",
      "I would love to schedule a brief call to discuss how we can help your organization streamline its compliance efforts and ultimately save valuable time and resources. \n",
      "\n",
      "Are you available for a quick chat this week?\n",
      "\n",
      "Best regards,\n",
      "\n",
      "[Your Name]  \n",
      "[Your Position]  \n",
      "CompanionAI  \n",
      "[Your Phone Number]  \n",
      "[Your Email]  \n",
      "\n",
      "\n",
      "Subject: Let's Make Compliance as Easy as Ordering Pizza 🍕 \n",
      "\n",
      "Hi [Recipient's Name],\n",
      "\n",
      "Hope you’re having a great day—at least as great as it can be when you’re buried under a mountain of compliance docs! \n",
      "\n",
      "I’m [Your Name] from CompanionAI, and I wanted to drop you a quick line to talk about SOC2 compliance. Think of it as the tedious broccoli of the SaaS world—necessary but not quite anyone’s favorite dish. \n",
      "\n",
      "What if I told you we’ve created an AI-powered tool that takes the pain out of compliance? Picture this: you kick back with a cup of coffee while our platform handles the nitty-gritty of SOC2 audits. No more chaotic spreadsheets or hair-pulling moments!\n",
      "\n",
      "Our clients have seen compliance time slashed by up to 50% (no, seriously). That’s more time for you to focus on the fun stuff—like perfecting your office’s snack game or mastering Zoom backgrounds. \n",
      "\n",
      "Can we schedule a quick chat this week? I promise I won’t bring up broccoli again. \n",
      "\n",
      "Looking forward to hearing from you!\n",
      "\n",
      "Best,  \n",
      "[Your Name]  \n",
      "[Your Title]  \n",
      "CompanionAI  \n",
      "[Your Phone Number]  \n",
      "[Your Website]  \n",
      "\n",
      "P.S. We can even help you prepare for audits quicker than you can say “SOC2 compliance.” Now that’s a real win-win! 🎉\n",
      "\n",
      "\n",
      "Subject: Simplify Your SOC2 Compliance Process\n",
      "\n",
      "Hi [Recipient's Name],\n",
      "\n",
      "I hope this message finds you well. I wanted to introduce you to CompanionAI, an AI-powered tool designed to streamline SOC2 compliance and audit preparation.\n",
      "\n",
      "With CompanionAI, you can:\n",
      "\n",
      "- Automate documentation and reporting\n",
      "- Ensure real-time compliance monitoring\n",
      "- Save time and resources for your team\n",
      "\n",
      "Would you be open to a quick call next week to explore how we can help simplify your compliance process?\n",
      "\n",
      "Best,  \n",
      "[Your Name]  \n",
      "[Your Position]  \n",
      "CompanionAI  \n",
      "[Your Phone Number]  \n",
      "[Your LinkedIn Profile]  \n",
      "\n",
      "\n"
     ]
    }
   ],
   "source": [
    "# The message to be sent as input to all sales agents, requesting a cold sales email\n",
    "message = \"Write a cold sales email\"\n",
    "\n",
    "# Begin a traced context, labeled \"Parallel cold emails\"\n",
    "# This helps track or debug the execution within this block\n",
    "with trace(\"Parallel cold emails\"):\n",
    "    # Run all three sales agents concurrently in parallel using asyncio.gather\n",
    "    # Each Runner.run call sends the message to a specific sales agent to generate a response\n",
    "    # 'await' ensures the program pauses here until all three asynchronous tasks complete\n",
    "    results = await asyncio.gather(\n",
    "        Runner.run(sales_agent1, message),  # Professional Sales Agent\n",
    "        Runner.run(sales_agent2, message),  # Engaging Sales Agent\n",
    "        Runner.run(sales_agent3, message),  # Busy Sales Agent\n",
    "    )\n",
    "\n",
    "# Collect the final output (the generated cold emails) from each of the returned result objects\n",
    "outputs = [result.final_output for result in results]\n",
    "\n",
    "# Print each of the generated emails, separated by two newline characters for readability\n",
    "for output in outputs:\n",
    "    print(output + \"\\n\\n\")"
   ]
  },
  {
   "cell_type": "code",
   "execution_count": 8,
   "metadata": {},
   "outputs": [],
   "source": [
    "# Create an Agent instance named \"sales_picker\"\n",
    "# This agent’s role is to choose the best cold sales email from multiple options.\n",
    "# The instructions tell the agent to imagine being a customer and pick the email most likely to get a response.\n",
    "# The agent should only reply with the chosen email and not provide any explanation.\n",
    "# The language model used for this agent is \"gpt-4o-mini\".\n",
    "sales_picker = Agent(name = \"sales_picker\",\n",
    "    instructions = (\n",
    "        \"You pick the best cold sales email from the given options. \"\n",
    "        \"Imagine you are a customer and pick the one you are most likely to respond to. \"\n",
    "        \"Do not give an explanation; reply with the selected email only.\"\n",
    "    ),\n",
    "    model = \"gpt-4o-mini\"\n",
    ")"
   ]
  },
  {
   "cell_type": "code",
   "execution_count": 9,
   "metadata": {},
   "outputs": [
    {
     "name": "stdout",
     "output_type": "stream",
     "text": [
      "Best sales email:\n",
      "Subject: Let's Make SOC2 Compliance Less Painful (and More Fun)!\n",
      "\n",
      "Hey [Recipient's Name],\n",
      "\n",
      "I hope this email finds you well and enjoying a coffee that hasn’t gone cold! ☕️\n",
      "\n",
      "Let’s talk SOC2 compliance—because who doesn’t love a good audit in their life? (Just kidding!) Let’s be real; it can feel like wading through molasses. But what if I told you there’s a way to speed things up without losing your mind (or your hair)?\n",
      "\n",
      "At CompanionAI, we like to think of ourselves as your compliance sidekick—minus the spandex. With our AI-powered tool, we can help you achieve and maintain SOC2 compliance faster than you can say “Where are all my documents?” 🥴\n",
      "\n",
      "Imagine:\n",
      "- Real-time monitoring that doesn’t require a crystal ball 🔮\n",
      "- Automated reporting that makes spreadsheets jealous\n",
      "- And a sprinkle of “Wow, we can actually do this without pulling all-nighters!”\n",
      "\n",
      "Let’s chat! I promise it’ll be more fun than trying to figure out that one vendor-required document you’ve been avoiding.\n",
      "\n",
      "Looking forward to connecting!\n",
      "\n",
      "Best,  \n",
      "[Your Name]  \n",
      "[Your Position]  \n",
      "CompanionAI  \n",
      "[Your Contact Information]\n",
      "\n",
      "P.S. We also take requests! If you need a killer compliance playlist, I'm your DJ! 🎧\n"
     ]
    }
   ],
   "source": [
    "# Input prompt to all sales agents asking them to write a cold sales email\n",
    "message = \"Write a cold sales email\"\n",
    "\n",
    "\n",
    "# Begin a traced context labeled \"Selection from sales people\" for debugging or profiling purposes\n",
    "with trace(\"Selection from sales people\"):\n",
    "    # Run all three sales agents concurrently to generate their versions of cold sales emails\n",
    "    results = await asyncio.gather(\n",
    "        Runner.run(sales_agent1, message),  # Professional Sales Agent\n",
    "        Runner.run(sales_agent2, message),  # Engaging Sales Agent\n",
    "        Runner.run(sales_agent3, message),  # Busy Sales Agent\n",
    "    )\n",
    "    \n",
    "    # Extract the generated email text from each agent's result\n",
    "    outputs = [result.final_output for result in results]\n",
    "\n",
    "    # Prepare a combined string of all cold sales emails separated by \"\\n\\nEmail:\\n\\n\"\n",
    "    # This formats the emails so that the sales_picker agent can evaluate them clearly\n",
    "    emails = \"Cold sales emails:\\n\\n\" + \"\\n\\nEmail:\\n\\n\".join(outputs)\n",
    "\n",
    "    # Use the sales_picker agent to select the best email from the compiled list\n",
    "    best = await Runner.run(sales_picker, emails)\n",
    "\n",
    "    # Print the best sales email chosen by the sales_picker agent\n",
    "    print(f\"Best sales email:\\n{best.final_output}\")"
   ]
  },
  {
   "cell_type": "markdown",
   "metadata": {},
   "source": [
    "Now go and check out the trace:\n",
    "\n",
    "https://platform.openai.com/traces"
   ]
  },
  {
   "cell_type": "markdown",
   "metadata": {},
   "source": [
    "## Part 2: use of tools\n",
    "\n",
    "Now we will add a tool to the mix.\n",
    "\n",
    "Remember all that json boilerplate and the `handle_tool_calls()` function with the if logic.."
   ]
  },
  {
   "cell_type": "code",
   "execution_count": 10,
   "metadata": {},
   "outputs": [
    {
     "data": {
      "text/plain": [
       "Agent(name='Professional Sales Agent', instructions='You are a sales agent working for CompanionAI, a company that provides a SaaS tool for ensuring SOC2 compliance and preparing for audits, powered by AI. You write professional, serious cold emails.', prompt=None, handoff_description=None, handoffs=[], model='gpt-4o-mini', model_settings=ModelSettings(temperature=None, top_p=None, frequency_penalty=None, presence_penalty=None, tool_choice=None, parallel_tool_calls=None, truncation=None, max_tokens=None, reasoning=None, metadata=None, store=None, include_usage=None, extra_query=None, extra_body=None, extra_headers=None, extra_args=None), tools=[], mcp_servers=[], mcp_config={}, input_guardrails=[], output_guardrails=[], output_type=None, hooks=None, tool_use_behavior='run_llm_again', reset_tool_choice=True)"
      ]
     },
     "execution_count": 10,
     "metadata": {},
     "output_type": "execute_result"
    }
   ],
   "source": [
    "sales_agent1"
   ]
  },
  {
   "cell_type": "markdown",
   "metadata": {},
   "source": [
    "## Steps 2 and 3: Tools and Agent interactions\n",
    "\n",
    "Remember all that boilerplate json?\n",
    "\n",
    "Simply wrap your function with the decorator `@function_tool`"
   ]
  },
  {
   "cell_type": "code",
   "execution_count": 11,
   "metadata": {},
   "outputs": [],
   "source": [
    "@function_tool\n",
    "def send_email(body : str):\n",
    "    \"\"\"\n",
    "    Send out an email with the given body to all sales prospects.\n",
    "\n",
    "    <b>*Parameters*</b>\n",
    "    - body (str): The content of the email message to be sent.\n",
    "\n",
    "    <b>*Returns*</b>\n",
    "    - dict: A dictionary containing the status of the email sending operation.\n",
    "\n",
    "    <b>*Logic*</b>\n",
    "    1. Create a SendGrid client authenticated using the API key stored in environment variables.\n",
    "    2. Define the sender email address (must be a verified sender in SendGrid).\n",
    "    3. Define the recipient email address (where the email will be delivered).\n",
    "    4. Create the email content using the provided body text and set MIME type to plain text.\n",
    "    5. Construct the Mail object combining sender, recipient, subject, and content.\n",
    "    6. Send the email via SendGrid's API using a POST request.\n",
    "    7. Return a success status dictionary indicating the email was sent.\n",
    "    \"\"\"\n",
    "\n",
    "    # Initialize the SendGrid client using the API key from the environment\n",
    "    sg = sendgrid.SendGridAPIClient(api_key = os.environ.get(\"SENDGRID_API_KEY\"))\n",
    "\n",
    "    # Set the verified sender email address\n",
    "    from_email = Email(email = \"siddharthwolverine@gmail.com\")  # Change this to your verified sender\n",
    "\n",
    "    # Set the recipient email address\n",
    "    to_email = To(email = \"siddharth13101999singh@gmail.com\")  # Change this to your recipient\n",
    "\n",
    "    # Define the email content with the given text body and MIME type \"text/plain\"\n",
    "    content = Content(mime_type = \"text/plain\", content = body)\n",
    "\n",
    "    # Create the email message object with sender, recipient, subject, and content\n",
    "    mail = Mail(from_email = from_email, to_emails = to_email, subject = \"Test email\", plain_text_content = content).get()\n",
    "\n",
    "    # Send the email through SendGrid's mail API\n",
    "    sg.client.mail.send.post(request_body = mail)\n",
    "\n",
    "    # Return a success response to indicate the email was sent\n",
    "    return {\"status\" : \"success\"}"
   ]
  },
  {
   "cell_type": "markdown",
   "metadata": {},
   "source": [
    "### This has automatically been converted into a tool, with the boilerplate json created"
   ]
  },
  {
   "cell_type": "code",
   "execution_count": 12,
   "metadata": {},
   "outputs": [
    {
     "data": {
      "text/plain": [
       "FunctionTool(name='send_email', description=\"Send out an email with the given body to all sales prospects.\\n\\n<b>*Parameters*</b>\\n- body (str): The content of the email message to be sent.\\n\\n<b>*Returns*</b>\\n- dict: A dictionary containing the status of the email sending operation.\\n\\n<b>*Logic*</b>\\n1. Create a SendGrid client authenticated using the API key stored in environment variables.\\n2. Define the sender email address (must be a verified sender in SendGrid).\\n3. Define the recipient email address (where the email will be delivered).\\n4. Create the email content using the provided body text and set MIME type to plain text.\\n5. Construct the Mail object combining sender, recipient, subject, and content.\\n6. Send the email via SendGrid's API using a POST request.\\n7. Return a success status dictionary indicating the email was sent.\", params_json_schema={'properties': {'body': {'title': 'Body', 'type': 'string'}}, 'required': ['body'], 'title': 'send_email_args', 'type': 'object', 'additionalProperties': False}, on_invoke_tool=<function function_tool.<locals>._create_function_tool.<locals>._on_invoke_tool at 0x7134cbb0b9c0>, strict_json_schema=True, is_enabled=True)"
      ]
     },
     "execution_count": 12,
     "metadata": {},
     "output_type": "execute_result"
    }
   ],
   "source": [
    "# Let's look at it\n",
    "send_email"
   ]
  },
  {
   "cell_type": "markdown",
   "metadata": {},
   "source": [
    "### And you can also convert an Agent into a tool"
   ]
  },
  {
   "cell_type": "code",
   "execution_count": 13,
   "metadata": {},
   "outputs": [
    {
     "data": {
      "text/plain": [
       "FunctionTool(name='sales_agent1', description='Write a cold sales email', params_json_schema={'properties': {'input': {'title': 'Input', 'type': 'string'}}, 'required': ['input'], 'title': 'sales_agent1_args', 'type': 'object', 'additionalProperties': False}, on_invoke_tool=<function function_tool.<locals>._create_function_tool.<locals>._on_invoke_tool at 0x7134cbb4fa60>, strict_json_schema=True, is_enabled=True)"
      ]
     },
     "execution_count": 13,
     "metadata": {},
     "output_type": "execute_result"
    }
   ],
   "source": [
    "# Convert the sales_agent1 Agent instance into a callable tool\n",
    "# This allows invoking sales_agent1 through a standardized tool interface\n",
    "# The tool is named \"sales_agent1\" and has a description \"Write a cold sales email\"\n",
    "tool1 = sales_agent1.as_tool(tool_name = \"sales_agent1\", tool_description = \"Write a cold sales email\")\n",
    "\n",
    "tool1"
   ]
  },
  {
   "cell_type": "markdown",
   "metadata": {},
   "source": [
    "### So now we can gather all the tools together:\n",
    "\n",
    "A tool for each of our 3 email-writing agents\n",
    "\n",
    "And a tool for our function to send emails"
   ]
  },
  {
   "cell_type": "code",
   "execution_count": 14,
   "metadata": {},
   "outputs": [
    {
     "data": {
      "text/plain": [
       "[FunctionTool(name='sales_agent1', description='Write a cold sales email', params_json_schema={'properties': {'input': {'title': 'Input', 'type': 'string'}}, 'required': ['input'], 'title': 'sales_agent1_args', 'type': 'object', 'additionalProperties': False}, on_invoke_tool=<function function_tool.<locals>._create_function_tool.<locals>._on_invoke_tool at 0x7134f01ced40>, strict_json_schema=True, is_enabled=True),\n",
       " FunctionTool(name='sales_agent2', description='Write a cold sales email', params_json_schema={'properties': {'input': {'title': 'Input', 'type': 'string'}}, 'required': ['input'], 'title': 'sales_agent2_args', 'type': 'object', 'additionalProperties': False}, on_invoke_tool=<function function_tool.<locals>._create_function_tool.<locals>._on_invoke_tool at 0x7134cbb4ede0>, strict_json_schema=True, is_enabled=True),\n",
       " FunctionTool(name='sales_agent3', description='Write a cold sales email', params_json_schema={'properties': {'input': {'title': 'Input', 'type': 'string'}}, 'required': ['input'], 'title': 'sales_agent3_args', 'type': 'object', 'additionalProperties': False}, on_invoke_tool=<function function_tool.<locals>._create_function_tool.<locals>._on_invoke_tool at 0x7134cbb4ea20>, strict_json_schema=True, is_enabled=True),\n",
       " FunctionTool(name='send_email', description=\"Send out an email with the given body to all sales prospects.\\n\\n<b>*Parameters*</b>\\n- body (str): The content of the email message to be sent.\\n\\n<b>*Returns*</b>\\n- dict: A dictionary containing the status of the email sending operation.\\n\\n<b>*Logic*</b>\\n1. Create a SendGrid client authenticated using the API key stored in environment variables.\\n2. Define the sender email address (must be a verified sender in SendGrid).\\n3. Define the recipient email address (where the email will be delivered).\\n4. Create the email content using the provided body text and set MIME type to plain text.\\n5. Construct the Mail object combining sender, recipient, subject, and content.\\n6. Send the email via SendGrid's API using a POST request.\\n7. Return a success status dictionary indicating the email was sent.\", params_json_schema={'properties': {'body': {'title': 'Body', 'type': 'string'}}, 'required': ['body'], 'title': 'send_email_args', 'type': 'object', 'additionalProperties': False}, on_invoke_tool=<function function_tool.<locals>._create_function_tool.<locals>._on_invoke_tool at 0x7134cbb0b9c0>, strict_json_schema=True, is_enabled=True)]"
      ]
     },
     "execution_count": 14,
     "metadata": {},
     "output_type": "execute_result"
    }
   ],
   "source": [
    "# Description used for all sales agent tools\n",
    "description = \"Write a cold sales email\"\n",
    "\n",
    "# Convert the three sales agent instances into callable tools\n",
    "# Each tool has a unique name and shares the same description\n",
    "tool1 = sales_agent1.as_tool(tool_name = \"sales_agent1\", tool_description = description)\n",
    "tool2 = sales_agent2.as_tool(tool_name = \"sales_agent2\", tool_description = description)\n",
    "tool3 = sales_agent3.as_tool(tool_name = \"sales_agent3\", tool_description = description)\n",
    "\n",
    "# Create a list of all tools including the send_email function_tool\n",
    "tools = [tool1, tool2, tool3, send_email]\n",
    "\n",
    "# Display the list of tools to verify they are set up correctly\n",
    "tools"
   ]
  },
  {
   "cell_type": "markdown",
   "metadata": {},
   "source": [
    "## And now it's time for our Sales Manager - our planning agent"
   ]
  },
  {
   "cell_type": "code",
   "execution_count": 15,
   "metadata": {},
   "outputs": [],
   "source": [
    "# Instructions given to the Sales Manager agent\n",
    "# This agent is responsible for orchestrating the process of finding and sending the best cold sales email\n",
    "instructions = \"\"\"\n",
    "You are a Sales Manager at CompanionAI. Your goal is to find the single best cold sales email using the sales_agent tools.\n",
    "\n",
    "Follow these steps carefully:\n",
    "1. Generate Drafts: Use all three sales_agent tools to generate three different email drafts. Do not proceed until all three drafts are ready.\n",
    "2. Evaluate and Select: Review the drafts and choose the single best email using your judgment of which one is most effective.\n",
    "3. Use the send_email tool to send the best email (and only the best email) to the user.\n",
    "\n",
    "Crucial Rules:\n",
    "- You must use the sales agent tools to generate the drafts — do not write them yourself.\n",
    "- You must send ONE email using the send_email tool — never more than one.\n",
    "\"\"\"\n",
    "\n",
    "# Create the Sales Manager agent using the instructions above\n",
    "# The agent is given access to all tools including sales agents and the send_email tool\n",
    "# \"gpt-4o-mini\" is specified as the language model to generate and evaluate emails\n",
    "sales_manager = Agent(name = \"Sales Manager\", instructions = instructions, tools = tools, model = \"gpt-4o-mini\")\n",
    "\n",
    "# The message input sent to the Sales Manager agent to trigger the workflow\n",
    "message = \"Send a cold sales email addressed to 'Dear CEO'\"\n",
    "\n",
    "# Use a trace context for monitoring or debugging the Sales Manager's execution\n",
    "with trace(\"Sales manager\"):\n",
    "    # Run the Sales Manager agent asynchronously with the given message\n",
    "    # This will execute the whole workflow of generating, selecting, and sending the email\n",
    "    result = await Runner.run(sales_manager, message)"
   ]
  },
  {
   "cell_type": "markdown",
   "metadata": {},
   "source": [
    "<table style=\"margin: 0; text-align: left; width:100%\">\n",
    "    <tr>\n",
    "        <td style=\"width: 150px; height: 150px; vertical-align: middle;\">\n",
    "            <img src=\"../assets/stop.png\" width=\"150\" height=\"150\" style=\"display: block;\" />\n",
    "        </td>\n",
    "        <td>\n",
    "            <h2 style=\"color:#ff7800;\">Wait - you didn't get an email??</h2>\n",
    "            <span style=\"color:#ff7800;\">With much thanks to student Chris S. for describing his issue and fixes. \n",
    "            If you don't receive an email after running the prior cell, here are some things to check: <br/>\n",
    "            First, check your Spam folder! Several students have missed that the emails arrived in Spam!<br/>Second, print(result) and see if you are receiving errors about SSL. \n",
    "            If you're receiving SSL errors, then please check out theses <a href=\"https://chatgpt.com/share/680620ec-3b30-8012-8c26-ca86693d0e3d\">networking tips</a> and see the note in the next cell. Also look at the trace in OpenAI, and investigate on the SendGrid website, to hunt for clues. Let me know if I can help!\n",
    "            </span>\n",
    "        </td>\n",
    "    </tr>\n",
    "</table>"
   ]
  },
  {
   "cell_type": "markdown",
   "metadata": {},
   "source": [
    "### And one more suggestion to send emails from student Oleksandr on Windows 11:\n",
    "\n",
    "If you are getting certificate SSL errors, then:  \n",
    "Run this in a terminal: `uv pip install --upgrade certifi`\n",
    "\n",
    "Then run this code:\n",
    "```python\n",
    "import certifi\n",
    "import os\n",
    "os.environ['SSL_CERT_FILE'] = certifi.where()\n",
    "```\n",
    "\n",
    "Thank you Oleksandr!"
   ]
  },
  {
   "cell_type": "markdown",
   "metadata": {},
   "source": [
    "## Remember to check the trace\n",
    "\n",
    "https://platform.openai.com/traces\n",
    "\n",
    "And then check your email!!\n"
   ]
  },
  {
   "cell_type": "markdown",
   "metadata": {},
   "source": [
    "### Handoffs represent a way an agent can delegate to an agent, passing control to it\n",
    "\n",
    "Handoffs and Agents-as-tools are similar:\n",
    "\n",
    "In both cases, an Agent can collaborate with another Agent\n",
    "\n",
    "With tools, control passes back\n",
    "\n",
    "With handoffs, control passes across\n",
    "\n"
   ]
  },
  {
   "cell_type": "code",
   "execution_count": 16,
   "metadata": {},
   "outputs": [],
   "source": [
    "# Instructions defining the task for the Email Subject Writer agent. This agent's role is to write a subject line for a cold sales email\n",
    "# It receives the main message content and needs to create a subject likely to get a response from the recipient.\n",
    "subject_instructions = \"You can write a subject for a cold sales email. \\\n",
    "You are given a message and you need to write a subject for an email that is likely to get a response.\"\n",
    "\n",
    "# Instructions defining the task for the HTML Email Body Converter agent. This agent converts a plain text email body (which might contain markdown)\n",
    "# into a clear, simple, and compelling HTML formatted email body.\n",
    "html_instructions = \"You can convert a text email body to an HTML email body. \\\n",
    "You are given a text email body which might have some markdown \\\n",
    "and you need to convert it to an HTML email body with simple, clear, compelling layout and design.\"\n",
    "\n",
    "# Creating an agent instance for writing email subjects 'name' gives the agent an identity 'instructions' defines what this agent should do\n",
    "# 'model' specifies which AI model powers this agent\n",
    "subject_writer = Agent(name = \"Email subject writer\", instructions = subject_instructions, model = \"gpt-4o-mini\")\n",
    "\n",
    "# Convert the subject_writer agent into a reusable tool Tools can be called easily within the overall agentic AI workflow\n",
    "# 'tool_name' is the identifier used to invoke this particular tool 'tool_description' briefly explains this tool's purpose\n",
    "subject_tool = subject_writer.as_tool(tool_name = \"subject_writer\", tool_description = \"Write a subject for a cold sales email\")\n",
    "\n",
    "# Creating an agent instance for converting plain text email to HTML\n",
    "html_converter = Agent(name = \"HTML email body converter\", instructions = html_instructions, model = \"gpt-4o-mini\")\n",
    "\n",
    "# Convert the html_converter agent into a reusable tool\n",
    "html_tool = html_converter.as_tool(tool_name = \"html_converter\", tool_description = \"Convert a text email body to an HTML email body\")"
   ]
  },
  {
   "cell_type": "code",
   "execution_count": 17,
   "metadata": {},
   "outputs": [],
   "source": [
    "@function_tool\n",
    "def send_html_email(subject : str, html_body : str) -> Dict[str, str]:\n",
    "    \"\"\"\n",
    "    Sends an HTML-formatted email using the SendGrid API.\n",
    "\n",
    "    <b>*Parameters*</b>\n",
    "    - subject (str): The subject line of the email to be sent.\n",
    "    - html_body (str): The HTML content that will be used as the body of the email.\n",
    "\n",
    "    <b>*Returns*</b>\n",
    "    - Dict[str, str]: A dictionary indicating the status of the operation (e.g., {\"status\": \"success\"}).\n",
    "\n",
    "    <b>*Logic*</b>\n",
    "    1. Initialize the SendGrid client using the required API key, retrieved securely from environment variables.\n",
    "    2. Define and validate the sender's email address (must be verified in SendGrid).\n",
    "    3. Define the recipient's email address.\n",
    "    4. Construct the email content using the provided HTML body with MIME type \"text/html\".\n",
    "    5. Assemble the Mail object with sender, recipient, subject, and HTML content.\n",
    "    6. Send the email using SendGrid's Mail API with a POST request.\n",
    "    7. Return a status message indicating the outcome (\"success\" if the operation was completed).\n",
    "    \"\"\"\n",
    "\n",
    "    # Initialize the SendGrid client using the API key from the environment\n",
    "    sg = sendgrid.SendGridAPIClient(api_key = os.environ.get(\"SENDGRID_API_KEY\"))\n",
    "\n",
    "    # Set the verified sender email address (must be verified in your SendGrid dashboard)\n",
    "    from_email = Email(email = \"siddharthwolverine@gmail.com\")  # Change this to your verified sender\n",
    "\n",
    "    # Set the recipient email address (the person who will receive the email)\n",
    "    to_email = To(email = \"siddharth13101999singh@gmail.com\")  # Change this to your recipient\n",
    "\n",
    "    # Define the email content with the given HTML body and the correct MIME type\n",
    "    content = Content(mime_type = \"text/html\", content = html_body)\n",
    "\n",
    "    # Create the email object with sender, recipient, subject, and content\n",
    "    # Note: Using 'plain_text_content' to store HTML here is a mistake in SendGrid API usage.\n",
    "    # The correct argument in Mail() is 'html_content' for HTML body, not 'plain_text_content'.\n",
    "    mail = Mail(from_email = from_email, to_emails = to_email, subject = subject, html_content = content).get()\n",
    "\n",
    "    # Send the email via the SendGrid client\n",
    "    sg.client.mail.send.post(request_body = mail)\n",
    "\n",
    "    # Return a success response\n",
    "    return {\"status\" : \"success\"}"
   ]
  },
  {
   "cell_type": "code",
   "execution_count": 18,
   "metadata": {},
   "outputs": [],
   "source": [
    "# Defining a list named 'tools' which groups together multiple tool instances\n",
    "# This list includes:\n",
    "# 1. subject_tool - the tool that generates an email subject from a message\n",
    "# 2. html_tool - the tool that converts plain text email bodies to HTML format\n",
    "# 3. send_html_email - a tool/function responsible for sending the final HTML-formatted email\n",
    "# Grouping these tools together makes it easy to provide them as capabilities \n",
    "# to another agent or workflow that needs to perform multiple related actions sequentially.\n",
    "tools = [subject_tool, html_tool, send_html_email]"
   ]
  },
  {
   "cell_type": "code",
   "execution_count": 19,
   "metadata": {},
   "outputs": [
    {
     "data": {
      "text/plain": [
       "[FunctionTool(name='subject_writer', description='Write a subject for a cold sales email', params_json_schema={'properties': {'input': {'title': 'Input', 'type': 'string'}}, 'required': ['input'], 'title': 'subject_writer_args', 'type': 'object', 'additionalProperties': False}, on_invoke_tool=<function function_tool.<locals>._create_function_tool.<locals>._on_invoke_tool at 0x7134cb22ade0>, strict_json_schema=True, is_enabled=True),\n",
       " FunctionTool(name='html_converter', description='Convert a text email body to an HTML email body', params_json_schema={'properties': {'input': {'title': 'Input', 'type': 'string'}}, 'required': ['input'], 'title': 'html_converter_args', 'type': 'object', 'additionalProperties': False}, on_invoke_tool=<function function_tool.<locals>._create_function_tool.<locals>._on_invoke_tool at 0x7134f3f19f80>, strict_json_schema=True, is_enabled=True),\n",
       " FunctionTool(name='send_html_email', description='Sends an HTML-formatted email using the SendGrid API.\\n\\n<b>*Parameters*</b>\\n- subject (str): The subject line of the email to be sent.\\n- html_body (str): The HTML content that will be used as the body of the email.\\n\\n<b>*Returns*</b>\\n- Dict[str, str]: A dictionary indicating the status of the operation (e.g., {\"status\": \"success\"}).\\n\\n<b>*Logic*</b>\\n1. Initialize the SendGrid client using the required API key, retrieved securely from environment variables.\\n2. Define and validate the sender\\'s email address (must be verified in SendGrid).\\n3. Define the recipient\\'s email address.\\n4. Construct the email content using the provided HTML body with MIME type \"text/html\".\\n5. Assemble the Mail object with sender, recipient, subject, and HTML content.\\n6. Send the email using SendGrid\\'s Mail API with a POST request.\\n7. Return a status message indicating the outcome (\"success\" if the operation was completed).', params_json_schema={'properties': {'subject': {'title': 'Subject', 'type': 'string'}, 'html_body': {'title': 'Html Body', 'type': 'string'}}, 'required': ['subject', 'html_body'], 'title': 'send_html_email_args', 'type': 'object', 'additionalProperties': False}, on_invoke_tool=<function function_tool.<locals>._create_function_tool.<locals>._on_invoke_tool at 0x7134d8848c20>, strict_json_schema=True, is_enabled=True)]"
      ]
     },
     "execution_count": 19,
     "metadata": {},
     "output_type": "execute_result"
    }
   ],
   "source": [
    "tools"
   ]
  },
  {
   "cell_type": "code",
   "execution_count": 20,
   "metadata": {},
   "outputs": [],
   "source": [
    "# Instructions that describe the role and workflow of the Email Manager agent:\n",
    "# This agent acts as an email formatter and sender.\n",
    "# It receives the raw body of an email to be sent, then performs the following steps in order:\n",
    "# 1. Uses the 'subject_writer' tool to generate an effective email subject from the message content.\n",
    "# 2. Uses the 'html_converter' tool to turn the plain text email body into a properly formatted HTML email body.\n",
    "# 3. Uses the 'send_html_email' tool to actually send the email, combining the generated subject and HTML body.\n",
    "instructions = \"You are an email formatter and sender. You receive the body of an email to be sent. \\\n",
    "You first use the subject_writer tool to write a subject for the email, then use the html_converter tool to convert the body to HTML. \\\n",
    "Finally, you use the send_html_email tool to send the email with the subject and HTML body.\"\n",
    "\n",
    "\n",
    "# Creating the Email Manager agent that orchestrates the email creation and sending process\n",
    "# - name: Identifier for the agent\n",
    "# - instructions: Defines what the agent does and how it should use its tools\n",
    "# - tools: List of tools that this agent can invoke (subject writing, HTML conversion, sending email)\n",
    "# - model: AI model powering this agent's reasoning and execution (GPT-4o-mini)\n",
    "# - handoff_description: Describes what happens when this agent completes its task, useful for chaining workflows\n",
    "emailer_agent = Agent(name = \"Email Manager\", instructions = instructions, tools = tools, model = \"gpt-4o-mini\", \n",
    "                      handoff_description = \"Convert an email to HTML and send it\")"
   ]
  },
  {
   "cell_type": "markdown",
   "metadata": {},
   "source": [
    "### Now we have 3 tools and 1 handoff"
   ]
  },
  {
   "cell_type": "code",
   "execution_count": null,
   "metadata": {},
   "outputs": [
    {
     "name": "stdout",
     "output_type": "stream",
     "text": [
      "[FunctionTool(name='sales_agent1', description='Write a cold sales email', params_json_schema={'properties': {'input': {'title': 'Input', 'type': 'string'}}, 'required': ['input'], 'title': 'sales_agent1_args', 'type': 'object', 'additionalProperties': False}, on_invoke_tool=<function function_tool.<locals>._create_function_tool.<locals>._on_invoke_tool at 0x7134f01ced40>, strict_json_schema=True, is_enabled=True), FunctionTool(name='sales_agent2', description='Write a cold sales email', params_json_schema={'properties': {'input': {'title': 'Input', 'type': 'string'}}, 'required': ['input'], 'title': 'sales_agent2_args', 'type': 'object', 'additionalProperties': False}, on_invoke_tool=<function function_tool.<locals>._create_function_tool.<locals>._on_invoke_tool at 0x7134cbb4ede0>, strict_json_schema=True, is_enabled=True), FunctionTool(name='sales_agent3', description='Write a cold sales email', params_json_schema={'properties': {'input': {'title': 'Input', 'type': 'string'}}, 'required': ['input'], 'title': 'sales_agent3_args', 'type': 'object', 'additionalProperties': False}, on_invoke_tool=<function function_tool.<locals>._create_function_tool.<locals>._on_invoke_tool at 0x7134cbb4ea20>, strict_json_schema=True, is_enabled=True)]\n",
      "[Agent(name='Email Manager', instructions='You are an email formatter and sender. You receive the body of an email to be sent. You first use the subject_writer tool to write a subject for the email, then use the html_converter tool to convert the body to HTML. Finally, you use the send_html_email tool to send the email with the subject and HTML body.', prompt=None, handoff_description='Convert an email to HTML and send it', handoffs=[], model='gpt-4o-mini', model_settings=ModelSettings(temperature=None, top_p=None, frequency_penalty=None, presence_penalty=None, tool_choice=None, parallel_tool_calls=None, truncation=None, max_tokens=None, reasoning=None, metadata=None, store=None, include_usage=None, extra_query=None, extra_body=None, extra_headers=None, extra_args=None), tools=[FunctionTool(name='subject_writer', description='Write a subject for a cold sales email', params_json_schema={'properties': {'input': {'title': 'Input', 'type': 'string'}}, 'required': ['input'], 'title': 'subject_writer_args', 'type': 'object', 'additionalProperties': False}, on_invoke_tool=<function function_tool.<locals>._create_function_tool.<locals>._on_invoke_tool at 0x7134cb22ade0>, strict_json_schema=True, is_enabled=True), FunctionTool(name='html_converter', description='Convert a text email body to an HTML email body', params_json_schema={'properties': {'input': {'title': 'Input', 'type': 'string'}}, 'required': ['input'], 'title': 'html_converter_args', 'type': 'object', 'additionalProperties': False}, on_invoke_tool=<function function_tool.<locals>._create_function_tool.<locals>._on_invoke_tool at 0x7134f3f19f80>, strict_json_schema=True, is_enabled=True), FunctionTool(name='send_html_email', description='Sends an HTML-formatted email using the SendGrid API.\\n\\n<b>*Parameters*</b>\\n- subject (str): The subject line of the email to be sent.\\n- html_body (str): The HTML content that will be used as the body of the email.\\n\\n<b>*Returns*</b>\\n- Dict[str, str]: A dictionary indicating the status of the operation (e.g., {\"status\": \"success\"}).\\n\\n<b>*Logic*</b>\\n1. Initialize the SendGrid client using the required API key, retrieved securely from environment variables.\\n2. Define and validate the sender\\'s email address (must be verified in SendGrid).\\n3. Define the recipient\\'s email address.\\n4. Construct the email content using the provided HTML body with MIME type \"text/html\".\\n5. Assemble the Mail object with sender, recipient, subject, and HTML content.\\n6. Send the email using SendGrid\\'s Mail API with a POST request.\\n7. Return a status message indicating the outcome (\"success\" if the operation was completed).', params_json_schema={'properties': {'subject': {'title': 'Subject', 'type': 'string'}, 'html_body': {'title': 'Html Body', 'type': 'string'}}, 'required': ['subject', 'html_body'], 'title': 'send_html_email_args', 'type': 'object', 'additionalProperties': False}, on_invoke_tool=<function function_tool.<locals>._create_function_tool.<locals>._on_invoke_tool at 0x7134d8848c20>, strict_json_schema=True, is_enabled=True)], mcp_servers=[], mcp_config={}, input_guardrails=[], output_guardrails=[], output_type=None, hooks=None, tool_use_behavior='run_llm_again', reset_tool_choice=True)]\n"
     ]
    }
   ],
   "source": [
    "# Define a list named 'tools' which contains three sales agent tools:\n",
    "# - tool1 corresponds to the Professional Sales Agent\n",
    "# - tool2 corresponds to the Engaging Sales Agent\n",
    "# - tool3 corresponds to the Busy Sales Agent\n",
    "tools = [tool1, tool2, tool3]\n",
    "\n",
    "# Define a list named 'handoffs' which contains agents to which control can be passed after task completion\n",
    "# In this case, 'emailer_agent' is listed as the handoff agent responsible for formatting and sending emails\n",
    "handoffs = [emailer_agent]\n",
    "\n",
    "# Print the defined tools list (sales agent tools)\n",
    "print(tools)\n",
    "\n",
    "# Print the defined handoffs list (emailer agent)\n",
    "print(handoffs)"
   ]
  },
  {
   "cell_type": "code",
   "execution_count": 23,
   "metadata": {},
   "outputs": [],
   "source": [
    "# Instructions defining the role and workflow of the Sales Manager agent:\n",
    "# - The Sales Manager's job is to find the best cold sales email by leveraging three sales agents.\n",
    "# - It must follow these steps precisely:\n",
    "#   1. Use all three sales agent tools to generate three different email drafts.\n",
    "#   2. Wait until all drafts are ready; do not proceed prematurely.\n",
    "#   3. Evaluate all drafts and choose the single best one based on effectiveness.\n",
    "#   4. The Sales Manager can repeat drafts generation if not satisfied with initial results.\n",
    "#   5. It must hand off exactly one final winning email draft to the 'Email Manager' agent.\n",
    "# - Important rules:\n",
    "#   - The drafts must be generated by the sales agent tools; the manager does not write drafts directly.\n",
    "#   - Only one email draft is handed off to the Email Manager - no multiple emails.\n",
    "\n",
    "sales_manager_instructions = \"\"\"\n",
    "You are a Sales Manager at CompanionAI. Your goal is to find the single best cold sales email using the sales_agent tools.\n",
    " \n",
    "Follow these steps carefully:\n",
    "1. Generate Drafts: Use all three sales_agent tools to generate three different email drafts. Do not proceed until all three drafts are ready.\n",
    "2. Evaluate and Select: Review the drafts and choose the single best email using your judgment of which one is most effective.\n",
    "You can use the tools multiple times if you're not satisfied with the results from the first try.\n",
    "3. Handoff for Sending: Pass ONLY the winning email draft to the 'Email Manager' agent. The Email Manager will take care of formatting and sending.\n",
    " \n",
    "Crucial Rules:\n",
    "- You must use the sales agent tools to generate the drafts — do not write them yourself.\n",
    "- You must hand off exactly ONE email to the Email Manager — never more than one.\n",
    "\"\"\"\n",
    "\n",
    "# Create the Sales Manager agent instance:\n",
    "# - name: \"Sales Manager\"\n",
    "# - instructions: detailed section above explaining steps and rules\n",
    "# - tools: the list of sales agent tools (tool1, tool2, tool3)\n",
    "# - handoffs: the list containing the email_manager agent for handling sending\n",
    "# - model: AI model used (gpt-4o-mini)\n",
    "sales_manager = Agent(name = \"Sales Manager\", instructions = sales_manager_instructions, tools = tools, handoffs = handoffs, model = \"gpt-4o-mini\")\n",
    "\n",
    "\n",
    "# Define the message payload to trigger sales_manager's workflow:\n",
    "# This message instructs to send a cold sales email addressed to \"Dear CEO\" from \"Alice\".\n",
    "message = \"Send out a cold sales email addressed to Dear CEO from Alice\"\n",
    "\n",
    "\n",
    "# Use a tracing context labeled \"Automated SDR\" to track workflow execution steps\n",
    "with trace(\"Automated SDR\"):\n",
    "    # Run the sales_manager agent asynchronously with the message\n",
    "    # It will generate drafts, select the best one, and hand off for sending automatically\n",
    "    result = await Runner.run(sales_manager, message)"
   ]
  },
  {
   "cell_type": "markdown",
   "metadata": {},
   "source": [
    "<p align=\"center\">\n",
    "  <img src=\"./flow_chart/sales_manager_flow_diagram.png\" alt=\"Diagram\" width=\"700\"/>\n",
    "</p>\n"
   ]
  },
  {
   "cell_type": "markdown",
   "metadata": {},
   "source": [
    "### Remember to check the trace\n",
    "\n",
    "https://platform.openai.com/traces\n",
    "\n",
    "And then check your email!!"
   ]
  },
  {
   "cell_type": "markdown",
   "metadata": {},
   "source": [
    "<table style=\"margin: 0; text-align: left; width:100%\">\n",
    "    <tr>\n",
    "        <td style=\"width: 150px; height: 150px; vertical-align: middle;\">\n",
    "            <img src=\"../assets/exercise.png\" width=\"150\" height=\"150\" style=\"display: block;\" />\n",
    "        </td>\n",
    "        <td>\n",
    "            <h2 style=\"color:#ff7800;\">Exercise</h2>\n",
    "            <span style=\"color:#ff7800;\">Can you identify the Agentic design patterns that were used here?<br/>\n",
    "            What is the 1 line that changed this from being an Agentic \"workflow\" to \"agent\" under Anthropic's definition?<br/>\n",
    "            Try adding in more tools and Agents! You could have tools that handle the mail merge to send to a list.<br/><br/>\n",
    "            HARD CHALLENGE: research how you can have SendGrid call a Callback webhook when a user replies to an email,\n",
    "            Then have the SDR respond to keep the conversation going! This may require some \"vibe coding\" 😂\n",
    "            </span>\n",
    "        </td>\n",
    "    </tr>\n",
    "</table>"
   ]
  },
  {
   "cell_type": "markdown",
   "metadata": {},
   "source": [
    "<table style=\"margin: 0; text-align: left; width:100%\">\n",
    "    <tr>\n",
    "        <td style=\"width: 150px; height: 150px; vertical-align: middle;\">\n",
    "            <img src=\"../assets/business.png\" width=\"150\" height=\"150\" style=\"display: block;\" />\n",
    "        </td>\n",
    "        <td>\n",
    "            <h2 style=\"color:#00bfff;\">Commercial implications</h2>\n",
    "            <span style=\"color:#00bfff;\">This is immediately applicable to Sales Automation; but more generally this could be applied to  end-to-end automation of any business process through conversations and tools. Think of ways you could apply an Agent solution\n",
    "            like this in your day job.\n",
    "            </span>\n",
    "        </td>\n",
    "    </tr>\n",
    "</table>"
   ]
  },
  {
   "cell_type": "markdown",
   "metadata": {},
   "source": [
    "## Extra note:\n",
    "\n",
    "Google has released their Agent Development Kit (ADK). It's not yet got the traction of the other frameworks on this course, but it's getting some attention. It's interesting to note that it looks quite similar to OpenAI Agents SDK. To give you a preview, here's a peak at sample code from ADK:\n",
    "\n",
    "```\n",
    "root_agent = Agent(\n",
    "    name=\"weather_time_agent\",\n",
    "    model=\"gemini-2.0-flash\",\n",
    "    description=\"Agent to answer questions about the time and weather in a city.\",\n",
    "    instruction=\"You are a helpful agent who can answer user questions about the time and weather in a city.\",\n",
    "    tools=[get_weather, get_current_time]\n",
    ")\n",
    "```\n",
    "\n",
    "Well, that looks familiar!\n",
    "\n",
    "And a student has contributed a customer care agent in community_contributions that uses ADK."
   ]
  },
  {
   "cell_type": "markdown",
   "metadata": {},
   "source": []
  },
  {
   "cell_type": "code",
   "execution_count": null,
   "metadata": {},
   "outputs": [],
   "source": [
    "# @startuml AgenticAICompleteFlow\n",
    "\n",
    "# skinparam backgroundColor #F0F8FF\n",
    "# skinparam package {\n",
    "#   BackgroundColor #D3E4F0\n",
    "#   BorderColor #2A75BB\n",
    "#   FontColor #2A75BB\n",
    "#   FontSize 14\n",
    "#   FontStyle bold\n",
    "# }\n",
    "# skinparam agent {\n",
    "#   BackgroundColor #A9CCE3\n",
    "#   BorderColor #1A5276\n",
    "#   FontColor #154360\n",
    "#   FontSize 12\n",
    "#   FontStyle bold\n",
    "#   Shadowing true\n",
    "# }\n",
    "# skinparam arrow {\n",
    "#   Color #2471A3\n",
    "#   Thickness 2\n",
    "#   FontSize 11\n",
    "#   FontStyle italic\n",
    "# }\n",
    "\n",
    "# package \"CompanionAI Agentic AI System\" {\n",
    "\n",
    "#   package \"Sales Agents\" {\n",
    "#     agent sales_agent1 as \"Professional Sales Agent\\n(GPT-4o-mini)\"\n",
    "#     agent sales_agent2 as \"Engaging Sales Agent\\n(GPT-4o-mini)\"\n",
    "#     agent sales_agent3 as \"Busy Sales Agent\\n(GPT-4o-mini)\"\n",
    "#   }\n",
    "\n",
    "#   agent sales_manager as \"Sales Manager\\n(GPT-4o-mini)\\n- Generate 3 drafts\\n- Evaluate & select best\\n- Handoff 1 email draft\"\n",
    "\n",
    "#   package \"Email Management Tools\" {\n",
    "#     agent subject_writer as \"Email Subject Writer\\n(GPT-4o-mini)\"\n",
    "#     agent html_converter as \"HTML Email Body Converter\\n(GPT-4o-mini)\"\n",
    "#     agent send_html_email as \"Send HTML Email\\n(SendGrid API)\"\n",
    "#   }\n",
    "\n",
    "#   agent email_manager as \"Email Manager\\n(GPT-4o-mini)\\n- Create subject\\n- Convert body to HTML\\n- Send email\"\n",
    "\n",
    "#   ' Sequential interaction flow with numbered steps\n",
    "\n",
    "#   sales_agent1 ..> sales_manager : \"1. Generate draft\"\n",
    "#   sales_agent2 ..> sales_manager : \"1. Generate draft\"\n",
    "#   sales_agent3 ..> sales_manager : \"1. Generate draft\"\n",
    "\n",
    "#   sales_manager --> email_manager : \"2. Handoff winning email draft\"\n",
    "\n",
    "#   email_manager --> subject_writer : \"3a. Generate subject\"\n",
    "#   email_manager --> html_converter : \"3b. Convert body to HTML\"\n",
    "#   email_manager --> send_html_email : \"3c. Send HTML email\"\n",
    "\n",
    "# }\n",
    "\n",
    "# @enduml"
   ]
  }
 ],
 "metadata": {
  "kernelspec": {
   "display_name": "agents",
   "language": "python",
   "name": "python3"
  },
  "language_info": {
   "codemirror_mode": {
    "name": "ipython",
    "version": 3
   },
   "file_extension": ".py",
   "mimetype": "text/x-python",
   "name": "python",
   "nbconvert_exporter": "python",
   "pygments_lexer": "ipython3",
   "version": "3.12.3"
  }
 },
 "nbformat": 4,
 "nbformat_minor": 2
}
