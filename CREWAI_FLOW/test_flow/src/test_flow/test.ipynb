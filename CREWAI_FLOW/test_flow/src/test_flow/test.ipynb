{
 "cells": [
  {
   "cell_type": "code",
   "execution_count": 1,
   "id": "bad28006",
   "metadata": {},
   "outputs": [],
   "source": [
    "from enum import Enum\n",
    "import json\n",
    "from string import Template\n",
    "from typing import Dict, List, Optional\n",
    "\n",
    "from pydantic import BaseModel, ValidationError, Field, conint\n",
    "from litellm import completion # Or use another LLM helper\n",
    "from crewai.flow import Flow, start, listen\n",
    "from crewai import LLM\n",
    "from rich.console import Console\n",
    "from rich.markdown import Markdown\n",
    "from os import makedirs\n",
    "\n",
    "ConstrainedInt = conint(ge = 1, le = 10)\n",
    "\n",
    "class EvaluatorResponse(BaseModel):\n",
    "    score_card : Optional[Dict[str, ConstrainedInt]] = Field(None, \n",
    "                                                             description = (\"A dictionary mapping each important_points \"\n",
    "                                                                            \"to its corresponding integer score. \"\n",
    "                                                                            \"Each score must be between 1 (lowest) and 10 (highest), \"\n",
    "                                                                            \"representing how well the lecture met the key considerations.\"))\n",
    "\n"
   ]
  },
  {
   "cell_type": "code",
   "execution_count": 5,
   "id": "c8662ae1",
   "metadata": {},
   "outputs": [
    {
     "data": {
      "text/plain": [
       "EvaluatorResponse(score_card=None)"
      ]
     },
     "execution_count": 5,
     "metadata": {},
     "output_type": "execute_result"
    }
   ],
   "source": [
    "EvaluatorResponse()"
   ]
  },
  {
   "cell_type": "code",
   "execution_count": null,
   "id": "38972f4c",
   "metadata": {},
   "outputs": [],
   "source": []
  }
 ],
 "metadata": {
  "kernelspec": {
   "display_name": "test-flow",
   "language": "python",
   "name": "python3"
  },
  "language_info": {
   "codemirror_mode": {
    "name": "ipython",
    "version": 3
   },
   "file_extension": ".py",
   "mimetype": "text/x-python",
   "name": "python",
   "nbconvert_exporter": "python",
   "pygments_lexer": "ipython3",
   "version": "3.12.3"
  }
 },
 "nbformat": 4,
 "nbformat_minor": 5
}
